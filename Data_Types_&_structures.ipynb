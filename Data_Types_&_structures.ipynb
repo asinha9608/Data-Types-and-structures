{
  "nbformat": 4,
  "nbformat_minor": 0,
  "metadata": {
    "colab": {
      "provenance": []
    },
    "kernelspec": {
      "name": "python3",
      "display_name": "Python 3"
    },
    "language_info": {
      "name": "python"
    }
  },
  "cells": [
    {
      "cell_type": "markdown",
      "source": [],
      "metadata": {
        "id": "R0gq4eEiOE97"
      }
    },
    {
      "cell_type": "markdown",
      "source": [
        "  1. What are data structures, and why are they important?\n",
        "\n",
        "  >  Data structures are ways to organize and store data in a computer so that it can be used efficiently. They are a fundamental part of computer science.\n",
        "  Data structures are important for- Makes code more efficient, improve problem solving, Help design alogorithms, Improve dasta management.\n"
      ],
      "metadata": {
        "id": "em0qYo1NPVhs"
      }
    },
    {
      "cell_type": "markdown",
      "source": [
        "  2. Explain the difference between mutable and immutable data types with examples.\n",
        "  > Mutable data types can be changed after they are created, while immutable data types cannot.\n",
        "  Examples- Mutable data types.\n",
        "   Lists, dictionaries and sets are mutable data types in python. You can add, remove or update their elements.\n",
        "  Immutable data types- String and tuples are immutable data types in Python. You cannot change their contlent after creation.\n",
        "Benefits of immutable data types- Immutable objects are inherently thread-safe, meaning they can be safely shared across threads and processes.\n",
        "\n"
      ],
      "metadata": {
        "id": "u85bGGPI7JZc"
      }
    },
    {
      "cell_type": "markdown",
      "source": [
        "  3. What are the main differences between lists and tuples in Python?\n",
        "  >  Lists and Tuples in Pytho are two differennt implementations of array data stucture.\n",
        "  Lists is Mutable and Tuples is not(Cannot update an element, insert and delete elements)\n",
        "  Tuples are faster because of read only nature. Memory can be efficiently allocated and used for tuples.\n",
        "  * Difference between List and Tuple in Pytho\n",
        "  List- Lists are mutable, The implication of iterations is Time-consluming, The list is better for performing operations, suchas insertion and deletion, Lists consume more memory, Lists have several builtin methods, Unexpected changes and errors are more likely to occur.\n",
        "  Tuple- Tuple are immutable, The implication of iterations is comparatively faster, A Tuple data type is appropriate for accessing the elements, Tuple consumes less memory as compared to the list, Tuple does not have many built in methods, Because tuples don't change they are far less error prone.\n",
        "  \n"
      ],
      "metadata": {
        "id": "7rznYnAd9MBv"
      }
    },
    {
      "cell_type": "markdown",
      "source": [
        " 4. Describe how dictionaries store data.\n",
        " >  In Python, dictionaries store data as key-value pairs, where each key is unique and immutable, and the value can be any data type.\n",
        " Dectionaries are designed to store data in a stuctured manner, associating a unique key with a corresponding value.\n",
        "\n"
      ],
      "metadata": {
        "id": "H4GTL6kp_y08"
      }
    },
    {
      "cell_type": "markdown",
      "source": [
        "  5. Why might you use a set instead of a list in Python?\n",
        "  >  A set in Python is preferred over a list in scenarios prioritizing uniqueness, membership testing, and set operations, due to its inherent characteristics and performance advantages.\n",
        "  Sets, by definition, do not allow duplicate elements. If the goal is to store only unique items, using a set automatically handles duplicate removal, simplifying the codes and improving efficency compared to manually managing uniqueness in a list.\n",
        "  \n"
      ],
      "metadata": {
        "id": "F8FJIMPsArrz"
      }
    },
    {
      "cell_type": "markdown",
      "source": [
        "  6. What is a string in Python, and how is it different from a list?\n",
        "  >  In Python, a string is a sequence of characters, while a list is a sequenence values. String are immutable, meaning they cannot be changed after they are created. Lists are mutable, meaning they can be changed after they are created.\n",
        "  \n",
        "\n"
      ],
      "metadata": {
        "id": "XZpOzaMSBrsm"
      }
    },
    {
      "cell_type": "markdown",
      "source": [
        "  7. How do tuples ensure data integrity in Python?\n",
        "  >  Tuples in Python ensure data integrity through their immutability. Once a tuple is created, its elements cannot be modified, added, or removed. This characteristic guarantees that the data stored within a tuple remains constant throughout its lifespan, preventing accidental or unintended alterations that could compromise the integrity of the data. Immutability is particularly valuable when working with data that should not be changed, such as configuration settings, database records, or function return values. By using tuples, developers can confidently rely on the conssistency and reliability of their data, knowing that it will not be inadvertently modified during program execution.\n",
        "\n"
      ],
      "metadata": {
        "id": "-LcyhB-vCq6-"
      }
    },
    {
      "cell_type": "markdown",
      "source": [
        "  8. What is a hash table, and how does it relate to dictionaries in Python?\n",
        "  >  A hash table is a data stucture that stores key-values pairs, where each key is unique and its position in the table is determined by a hash function. This function takes the key as input and produces an index, indicating where the associated value should be stored. Hash tables are designed for efficient insertion, deletion, and retrieval of data , offering average-case time complexity of O(1) for these operations.\n",
        "  in Python, dictionaries are implemented using hash tables. Whena key-value pair is added to a dictionalry, Python calculates the hash value of the key to determine the storage location. THis allows for quick access to values based on their keys. While hash collisions(where different keys produce the same hash value) can occur, Python's dictionary implemmentation handles them efficiently, maintainling the overall performance of the dictionary. Therefore, Python dictionaries are a practical applicatrion of hash tables, providing a built-in way to utlize their benefits.\n",
        "  \n"
      ],
      "metadata": {
        "id": "6DosK4JbD7R6"
      }
    },
    {
      "cell_type": "markdown",
      "source": [
        "  9. Can lists contain different data types in Python?\n",
        "  >  A lists in Python can contain elements of different data types. This is one of the features that makes Python lists very flexible. A single list can hold integers, strings, floats, booleans, and even other lists or more complex objects.\n",
        "  While it is possible to mix data types in a list, it's important to consider the implications for code readablility and maintainability. If the list is intended to store a collection of similar items, its generally better to keep the data types consistent. However, if the list is being used to group related but different pieces of information, them mixing data types can be appropriate.\n",
        "  \n"
      ],
      "metadata": {
        "id": "a8eXZ97DF5iR"
      }
    },
    {
      "cell_type": "markdown",
      "source": [
        "  10. Explain why strings are immutable in Python.\n",
        "  >   Sting in Python are immutable because of serveral design and performance consliderations. Immutability ensures data integrity, allowing strings to be safely shared asnd reused throughout a program. Since their value cannot change after creation, strings can be used as dictionary keys, which frequire a constangtl hash value. This also simplifies memorhy management as the size of a string is fixed, and avoidx the complexities that arise from modifying string in place, escpecially in multithreaded environments.\n",
        "  When a string appears to be modified using methods like or concatenation a new string object is created. While the original remains unchanged. This behavior might seem less efficientat first, but it promotes clarity and avoids unintended side effects.\n",
        "  \n"
      ],
      "metadata": {
        "id": "Utw_uoffHS3T"
      }
    },
    {
      "cell_type": "markdown",
      "source": [
        "  11. What advantages do dictionaries offer over lists for certain tasks?\n",
        "  >   Dictionaries are better than lists for tasks like data lookups, storing large amounts of data and mapping relationships.\n",
        "  Additional advantages of dictionaries- Easy to understand key value pairs, Built in methods for manipulation, Useful for mapping relationships, Can be applied in various scenarios, Make code easier to read, Can be used to store friend's cell phone numbers.\n"
      ],
      "metadata": {
        "id": "vcF27EOIJmfe"
      }
    },
    {
      "cell_type": "markdown",
      "source": [
        "  12. Describe a scenario where using a tuple would be preferable over a list.\n",
        "  >   A tuple should be used over a list when you need a fixed, immutable sequence of data, such as coordinates or a set of constant values, where you want to ensure the data remains unchanged ensure the data remains unchanged throughout the program's execution.\n",
        "  \n"
      ],
      "metadata": {
        "id": "BZO_CLYGKwfB"
      }
    },
    {
      "cell_type": "markdown",
      "source": [
        "  13. How do sets handle duplicate values in Python?\n",
        "  >   Sets in Python are designed to store only unique elements. When an attempt is made to add a duplicate value to a set, it is automatically ignored, and the set remains unchanged. This behavior is fundamental to the nature of sets as unordered collections of distinct elements.\n"
      ],
      "metadata": {
        "id": "-MWULIIuMw31"
      }
    },
    {
      "cell_type": "markdown",
      "source": [
        "  14. How does the “in” keyword work differently for lists and dictionaries?\n",
        "  >  The in keyword checks for membership differently in lists and dictionaries, in lists, it checks if a value exists as an element, while in dictionaries, it checks if a key exists.\n",
        "  List- The in keyword with a list checks if a specific value is present as an element within the list.\n",
        "  It iterates through the list and returns True if the value is found other wise False.\n",
        "  Dictionaries- The in keyword with a dictionary checks if a specific key is present in the dictionary. It does not check for the presence of a value.\n"
      ],
      "metadata": {
        "id": "wp2jdL4yNbmS"
      }
    },
    {
      "cell_type": "markdown",
      "source": [
        "  15. Can you modify the elements of a tuple? Explain why or why not.\n",
        "  >   No, you cannot modify the elements of a tuple in Python because tuples are immutable. This menas that you cannot add, remove, or change the elements of a tuple after it has been created.\n",
        "  Explanation- Tuples are immutable, which means that their contents are fixed and cannot be altered. If you try to modity a tuple by assingning a new value to one of its elements, you will get a TypeError error. However, if the elements is a changeable data type, such as a list its nested components can be altered.\n",
        "  You can concatenate 2 or more tuples to form a new tuple. You can convert the tuple into a list, change the list, and convert the list back into a tuple."
      ],
      "metadata": {
        "id": "LWCGJ5azOeB2"
      }
    },
    {
      "cell_type": "markdown",
      "source": [
        "   16. What is a nested dictionary, and give an example of its use case?\n",
        "   >   A nested dictionary is a dictionary that is stored inside another dictionary. It's a way to organize data in layers.\n",
        "   Examples- An organizational chart can be represented using a nested dictionary. In this example, the keys are different departments and the values are dictionaries of emplouyees in each department.\n",
        "   \n"
      ],
      "metadata": {
        "id": "Hf1NBAzuQHRi"
      }
    },
    {
      "cell_type": "markdown",
      "source": [
        "   17. Describe the time complexity of accessing elements in a dictionary.\n",
        "   >   The time complexity of accessing an element in a Pythfon dictionary is O(1) on average, but can be O(n) in the worst case. This menas that it takes a constant amount of time to search for a value in a dictionay, on average. However, the worst case occurs when there are many hash collisions or when the dictionary needs to be resized.\n",
        "   \n"
      ],
      "metadata": {
        "id": "xu43jpVhQ-mX"
      }
    },
    {
      "cell_type": "markdown",
      "source": [
        "   18. In what situations are lists preferred over dictionaries?\n",
        "   >   List are preferred over dictgionaries when the order of items is crucial, youneed to store multiple values for each item or when you frequently perform operations like appending or extending.\n"
      ],
      "metadata": {
        "id": "dj5-Ww0BR8GW"
      }
    },
    {
      "cell_type": "markdown",
      "source": [
        "   19. Why are dictionaries considered unordered, and how does that affect data retrieval?\n",
        "   > Dictionaries are considered unordered because they don't maintain a specific order for their elements,meaning the oreder in which you add key-value pairs does't gurantee the order they'll be retrieved. This impacts data retrieval as you cannot access elements by their position but instead by their unique keys.\n"
      ],
      "metadata": {
        "id": "FoMHbSc4SmVw"
      }
    },
    {
      "cell_type": "markdown",
      "source": [
        "   20. Explain the difference between a list and a dictionary in terms of data retrieval.\n",
        "   >   In Python, lists are bettetr for accessing elements in order,while dictionaries are better for quick lookups.\n",
        "   List- Data structure ordered collection of items, Access elements using indices, ordered collections like sequences of user actions, Faster for ordered operations like sorting.\n",
        "   Dictionary- Unordered collection of key-value pairs, Access elements using keys, Quick lookups like mapping unsernmes to user data, Faster for lookup operations.\n"
      ],
      "metadata": {
        "id": "P9uMrFwT7ILt"
      }
    },
    {
      "cell_type": "markdown",
      "source": [
        "               Practical Questions."
      ],
      "metadata": {
        "id": "zdEKsBjO8ksp"
      }
    },
    {
      "cell_type": "markdown",
      "source": [
        "   1. Write a code to create a string with your name and print it.\n"
      ],
      "metadata": {
        "id": "w5Zq7tHI8wz_"
      }
    },
    {
      "cell_type": "code",
      "source": [
        "my_name = \"Ankit\"\n",
        "print(my_name)"
      ],
      "metadata": {
        "colab": {
          "base_uri": "https://localhost:8080/"
        },
        "id": "077sf1sP8_AP",
        "outputId": "880d74a5-cfea-4c47-8323-6f2cdf601825"
      },
      "execution_count": null,
      "outputs": [
        {
          "output_type": "stream",
          "name": "stdout",
          "text": [
            "Ankit\n"
          ]
        }
      ]
    },
    {
      "cell_type": "markdown",
      "source": [
        "   2. Write a code to find the length of the string \"Hello World\".\n"
      ],
      "metadata": {
        "id": "zNoZbrrH-FEx"
      }
    },
    {
      "cell_type": "code",
      "source": [
        "str = \"Hello world\"\n",
        "length = len(str)\n",
        "print(\"length of 'Hello world' :\",length)"
      ],
      "metadata": {
        "colab": {
          "base_uri": "https://localhost:8080/"
        },
        "id": "R4jckdwM-bG7",
        "outputId": "35ffd84b-7e0b-480f-e13c-125472497602"
      },
      "execution_count": null,
      "outputs": [
        {
          "output_type": "stream",
          "name": "stdout",
          "text": [
            "length of 'Hello world' : 11\n"
          ]
        }
      ]
    },
    {
      "cell_type": "markdown",
      "source": [
        "   3. Write a code to slice the first 3 characters from the string \"Python Programming\".\n"
      ],
      "metadata": {
        "id": "1VTzQonf_QPV"
      }
    },
    {
      "cell_type": "code",
      "source": [
        "str = \"Python Programming\"\n",
        "first_3_chars = str[:3]\n",
        "print(\"First 3 characters:\",first_3_chars)"
      ],
      "metadata": {
        "colab": {
          "base_uri": "https://localhost:8080/"
        },
        "id": "DuGzln4W_Z3k",
        "outputId": "e839f729-865e-42ab-8ed5-2a4438b7f430"
      },
      "execution_count": null,
      "outputs": [
        {
          "output_type": "stream",
          "name": "stdout",
          "text": [
            "First 3 characters: Pyt\n"
          ]
        }
      ]
    },
    {
      "cell_type": "markdown",
      "source": [
        "   4. Write a code to convert the string \"hello\" to uppercase.\n"
      ],
      "metadata": {
        "id": "wS0V4GmrAbC2"
      }
    },
    {
      "cell_type": "code",
      "source": [
        "str = \"hello\"\n",
        "uppercase_str = str.upper()\n",
        "print(\"uppercase string:\",uppercase_str)"
      ],
      "metadata": {
        "colab": {
          "base_uri": "https://localhost:8080/"
        },
        "id": "bpH3W4lpAknz",
        "outputId": "33afa8da-1c90-4ae4-a76f-7191f10791d1"
      },
      "execution_count": null,
      "outputs": [
        {
          "output_type": "stream",
          "name": "stdout",
          "text": [
            "uppercase string: HELLO\n"
          ]
        }
      ]
    },
    {
      "cell_type": "markdown",
      "source": [
        "   5. Write a code to replace the word \"apple\" with \"orange\" in the string \"I like apple\".\n"
      ],
      "metadata": {
        "id": "U7ZwUjvJBHFb"
      }
    },
    {
      "cell_type": "code",
      "source": [
        "str = \"I like apple\"\n",
        "new_str = str.replace(\"apple\",\"orange\")\n",
        "print(\"Modified string:\", new_str)"
      ],
      "metadata": {
        "colab": {
          "base_uri": "https://localhost:8080/"
        },
        "id": "yz3Uj133BONU",
        "outputId": "66958de9-cb46-4f2c-858b-cf6cc9b3135d"
      },
      "execution_count": null,
      "outputs": [
        {
          "output_type": "stream",
          "name": "stdout",
          "text": [
            "Modified string: I like orange\n"
          ]
        }
      ]
    },
    {
      "cell_type": "markdown",
      "source": [
        "   6. Write a code to create a list with numbers 1 to 5 and print it.\n"
      ],
      "metadata": {
        "id": "_1oeUILoCQgo"
      }
    },
    {
      "cell_type": "code",
      "source": [
        "numbers = [1,2,3,4,5]\n",
        "print(\"List of numbers:\",numbers)"
      ],
      "metadata": {
        "colab": {
          "base_uri": "https://localhost:8080/"
        },
        "id": "VlREt9ZKCa8q",
        "outputId": "4a922ae1-8af4-49d8-c539-a2c0e29909e0"
      },
      "execution_count": null,
      "outputs": [
        {
          "output_type": "stream",
          "name": "stdout",
          "text": [
            "List of numbers: [1, 2, 3, 4, 5]\n"
          ]
        }
      ]
    },
    {
      "cell_type": "markdown",
      "source": [
        "  7. Write a code to append the number 10 to the list [1, 2, 3, 4].\n"
      ],
      "metadata": {
        "id": "ScdjjGLkC8C0"
      }
    },
    {
      "cell_type": "code",
      "source": [
        "numbers = [1,2,3,4]\n",
        "print(\"Orignal list:\", numbers)\n",
        "print(\"Updated list:\", numbers)"
      ],
      "metadata": {
        "colab": {
          "base_uri": "https://localhost:8080/"
        },
        "id": "nyy1WqNbDIuC",
        "outputId": "cc086397-0e80-472a-ad0e-0be11fc03425"
      },
      "execution_count": null,
      "outputs": [
        {
          "output_type": "stream",
          "name": "stdout",
          "text": [
            "Orignal list: [1, 2, 3, 4]\n",
            "Updated list: [1, 2, 3, 4]\n"
          ]
        }
      ]
    },
    {
      "cell_type": "markdown",
      "source": [
        "  8. Write a code to remove the number 3 from the list [1, 2, 3, 4, 5].\n"
      ],
      "metadata": {
        "id": "klRlIDDEF_Xf"
      }
    },
    {
      "cell_type": "code",
      "source": [
        "my_list = [1,2,3,4,5]\n",
        "new_list = [num for num in my_list if num != 3]\n",
        "print(new_list)"
      ],
      "metadata": {
        "id": "FV6SNaCUGIYA",
        "colab": {
          "base_uri": "https://localhost:8080/"
        },
        "outputId": "73479df3-8384-444c-852d-e676a12ac001"
      },
      "execution_count": 1,
      "outputs": [
        {
          "output_type": "stream",
          "name": "stdout",
          "text": [
            "[1, 2, 4, 5]\n"
          ]
        }
      ]
    },
    {
      "cell_type": "markdown",
      "source": [
        "   9. Write a code to access the second element in the list ['a', 'b', 'c', 'd'].\n"
      ],
      "metadata": {
        "id": "K6mtiLhuKmWc"
      }
    },
    {
      "cell_type": "code",
      "source": [
        "\n",
        "my_list = ['a','b','c','d']\n",
        "second_element = my_list[1]\n",
        "print(\"Second element:\",second_element)"
      ],
      "metadata": {
        "colab": {
          "base_uri": "https://localhost:8080/"
        },
        "id": "Rrl9h-8HK1AK",
        "outputId": "0d944ef2-a3cd-4486-a0f7-05e30e37c16f"
      },
      "execution_count": 2,
      "outputs": [
        {
          "output_type": "stream",
          "name": "stdout",
          "text": [
            "Second element: b\n"
          ]
        }
      ]
    },
    {
      "cell_type": "markdown",
      "source": [
        "   10. Write a code to reverse the list [10, 20, 30, 40, 50]."
      ],
      "metadata": {
        "id": "qULILH0-Ltsg"
      }
    },
    {
      "cell_type": "code",
      "source": [
        "numbers = [10,20,30,40,50]\n",
        "print(\"Orignal list:\", numbers)\n",
        "print(\"Reversed list:\", numbers)"
      ],
      "metadata": {
        "colab": {
          "base_uri": "https://localhost:8080/"
        },
        "id": "p3tSD4PpL1QQ",
        "outputId": "6717f103-3175-4ba2-d32c-2b3f35ae742b"
      },
      "execution_count": 4,
      "outputs": [
        {
          "output_type": "stream",
          "name": "stdout",
          "text": [
            "Orignal list: [10, 20, 30, 40, 50]\n",
            "Reversed list: [10, 20, 30, 40, 50]\n"
          ]
        }
      ]
    },
    {
      "cell_type": "markdown",
      "source": [
        "   11. Write a code to create a tuple with the elements 100, 200, 300 and print it."
      ],
      "metadata": {
        "id": "Ticth38QNdGH"
      }
    },
    {
      "cell_type": "code",
      "source": [
        "numbers = (100,200,300)\n",
        "print(\"Tuple:\",numbers)"
      ],
      "metadata": {
        "colab": {
          "base_uri": "https://localhost:8080/"
        },
        "id": "Dv5oOmMINoNI",
        "outputId": "d6d91d8f-75d0-416f-b25b-1826e965673b"
      },
      "execution_count": 5,
      "outputs": [
        {
          "output_type": "stream",
          "name": "stdout",
          "text": [
            "Tuple: (100, 200, 300)\n"
          ]
        }
      ]
    },
    {
      "cell_type": "markdown",
      "source": [
        "   12. Write a code to access the second-to-last element of the tuple ('red', 'green', 'blue', 'yellow')."
      ],
      "metadata": {
        "id": "DwmRjJcROCIB"
      }
    },
    {
      "cell_type": "code",
      "source": [
        "colors = ('red','green','blue','yellow')\n",
        "second_to_last_element = colors[-2]\n",
        "print(\"Second to last element:\",second_to_last_element)"
      ],
      "metadata": {
        "colab": {
          "base_uri": "https://localhost:8080/"
        },
        "id": "Ot_q2U5AOIuT",
        "outputId": "4f3cd87e-eb99-408f-c15c-7f61441b6fe5"
      },
      "execution_count": 6,
      "outputs": [
        {
          "output_type": "stream",
          "name": "stdout",
          "text": [
            "Second to last element: blue\n"
          ]
        }
      ]
    },
    {
      "cell_type": "markdown",
      "source": [
        "   13. Write a code to find the minimum number in the tuple (10, 20, 5, 15)."
      ],
      "metadata": {
        "id": "1P-BtWefQlbl"
      }
    },
    {
      "cell_type": "code",
      "source": [
        "numbers = (10,20,5,15)\n",
        "min_number = min(numbers)\n",
        "print(\"Minimum number:\",min_number)"
      ],
      "metadata": {
        "colab": {
          "base_uri": "https://localhost:8080/"
        },
        "id": "VF9IzPS3QsLy",
        "outputId": "a313b3bc-abd9-46d7-cd95-8697d5e955d0"
      },
      "execution_count": 7,
      "outputs": [
        {
          "output_type": "stream",
          "name": "stdout",
          "text": [
            "Minimum number: 5\n"
          ]
        }
      ]
    },
    {
      "cell_type": "markdown",
      "source": [
        "   14. Write a code to find the index of the element \"cat\" in the tuple ('dog', 'cat', 'rabbit')."
      ],
      "metadata": {
        "id": "C2IYLewZRBnd"
      }
    },
    {
      "cell_type": "code",
      "source": [
        "animalus = ('dog','cat','rabbit')\n",
        "cat_index = animalus.index('cat')\n",
        "print(\"Index of 'cat':\",cat_index)"
      ],
      "metadata": {
        "colab": {
          "base_uri": "https://localhost:8080/"
        },
        "id": "M68zv7CKRHWB",
        "outputId": "cac24eeb-a06b-4df4-ff5a-d2b77694dc83"
      },
      "execution_count": 8,
      "outputs": [
        {
          "output_type": "stream",
          "name": "stdout",
          "text": [
            "Index of 'cat': 1\n"
          ]
        }
      ]
    },
    {
      "cell_type": "markdown",
      "source": [
        "   15. Write a code to create a tuple containing three different fruits and check if \"kiwi\" is in it."
      ],
      "metadata": {
        "id": "lHXBOcrrRiT_"
      }
    },
    {
      "cell_type": "code",
      "source": [
        "fruits = ('apple','banana','orange')\n",
        "is_kiwi_in_tuple = 'kiwi' in fruits\n",
        "print(\"Is 'kiwi' in the tuple:\",is_kiwi_in_tuple)"
      ],
      "metadata": {
        "colab": {
          "base_uri": "https://localhost:8080/"
        },
        "id": "HjgZbYRnRpbw",
        "outputId": "ba796a08-87f0-4d79-cdc7-9ebff9eda1fe"
      },
      "execution_count": 9,
      "outputs": [
        {
          "output_type": "stream",
          "name": "stdout",
          "text": [
            "Is 'kiwi' in the tuple: False\n"
          ]
        }
      ]
    },
    {
      "cell_type": "markdown",
      "source": [
        "   16. Write a code to create a set with the elements 'a', 'b', 'c' and print it."
      ],
      "metadata": {
        "id": "38AVD1oNR_uj"
      }
    },
    {
      "cell_type": "code",
      "source": [
        "\n",
        "letters = {'a','b','c'}\n",
        "print(\"Set:\",letters)"
      ],
      "metadata": {
        "colab": {
          "base_uri": "https://localhost:8080/"
        },
        "id": "UF6OHpGvSHes",
        "outputId": "d0a04dc0-875d-466b-d705-284d57a84f62"
      },
      "execution_count": 11,
      "outputs": [
        {
          "output_type": "stream",
          "name": "stdout",
          "text": [
            "Set: {'c', 'a', 'b'}\n"
          ]
        }
      ]
    },
    {
      "cell_type": "markdown",
      "source": [
        "   17. Write a code to clear all elements from the set {1, 2, 3, 4, 5}."
      ],
      "metadata": {
        "id": "jkb1lUfQSlDi"
      }
    },
    {
      "cell_type": "code",
      "source": [
        "numbers = {1,2,3,4,5}\n",
        "print(\"Original set:\", numbers)\n",
        "print(\"Cleared set:\", numbers)"
      ],
      "metadata": {
        "colab": {
          "base_uri": "https://localhost:8080/"
        },
        "id": "ZK-ekyEnSrde",
        "outputId": "a6e05d63-b9b4-4f89-a0ff-5215a7b5102b"
      },
      "execution_count": 12,
      "outputs": [
        {
          "output_type": "stream",
          "name": "stdout",
          "text": [
            "Original set: {1, 2, 3, 4, 5}\n",
            "Cleared set: {1, 2, 3, 4, 5}\n"
          ]
        }
      ]
    },
    {
      "cell_type": "markdown",
      "source": [
        "   18. Write a code to remove the element 4 from the set {1, 2, 3, 4}."
      ],
      "metadata": {
        "id": "kigUxDwMTf3W"
      }
    },
    {
      "cell_type": "code",
      "source": [
        "numbers = {1,2,3,4}\n",
        "print(\"Original set:\", numbers)\n",
        "numbers.remove(4)\n",
        "print(\"Updated set:\", numbers)"
      ],
      "metadata": {
        "colab": {
          "base_uri": "https://localhost:8080/"
        },
        "id": "VdK27YFYTmk_",
        "outputId": "ca9bbdd7-98d4-4de8-bc75-9d2e0d895cee"
      },
      "execution_count": 1,
      "outputs": [
        {
          "output_type": "stream",
          "name": "stdout",
          "text": [
            "Original set: {1, 2, 3, 4}\n",
            "Updated set: {1, 2, 3}\n"
          ]
        }
      ]
    },
    {
      "cell_type": "markdown",
      "source": [
        "   19. Write a code to find the union of two sets {1, 2, 3} and {3, 4, 5}."
      ],
      "metadata": {
        "id": "QnrIg-S9UGVS"
      }
    },
    {
      "cell_type": "code",
      "source": [
        "set1 = {1,2,3}\n",
        "set2 = {3,4,5}\n",
        "union_set = set1.union(set2)\n",
        "print(\"Union of set1 and set2:\",union_set)"
      ],
      "metadata": {
        "colab": {
          "base_uri": "https://localhost:8080/"
        },
        "id": "rkZXkrFWUM_T",
        "outputId": "eca8af4b-2527-495f-e00a-c5c5207cfeca"
      },
      "execution_count": 2,
      "outputs": [
        {
          "output_type": "stream",
          "name": "stdout",
          "text": [
            "Union of set1 and set2: {1, 2, 3, 4, 5}\n"
          ]
        }
      ]
    },
    {
      "cell_type": "markdown",
      "source": [
        "   20. Write a code to find the intersection of two sets {1, 2, 3} and {2, 3, 4}."
      ],
      "metadata": {
        "id": "FHUY5GaHUkLL"
      }
    },
    {
      "cell_type": "code",
      "source": [
        "set1 = {1,2,3}\n",
        "set2 = {2,3,4}\n",
        "print(\"set 1:\", set1)\n",
        "set1 = {1,2,3}\n",
        "set2 = {2,3,4}\n",
        "print(\"set 1:\", set1)\n",
        "print(\"set 2:\", set2)\n",
        "intersection_set = set1.intersection(set2)\n",
        "print(\"Intersection of set1 and set2:\",intersection_set)"
      ],
      "metadata": {
        "colab": {
          "base_uri": "https://localhost:8080/"
        },
        "id": "dmrXERaJUqVs",
        "outputId": "01aeb4fa-782e-41db-ecdd-324a0adfe00d"
      },
      "execution_count": 4,
      "outputs": [
        {
          "output_type": "stream",
          "name": "stdout",
          "text": [
            "set 1: {1, 2, 3}\n",
            "set 1: {1, 2, 3}\n",
            "set 2: {2, 3, 4}\n",
            "Intersection of set1 and set2: {2, 3}\n"
          ]
        }
      ]
    },
    {
      "cell_type": "markdown",
      "source": [
        "   21. Write a code to create a dictionary with the keys \"name\", \"age\", and \"city\", and print it."
      ],
      "metadata": {
        "id": "oaw38n_kVbhd"
      }
    },
    {
      "cell_type": "code",
      "source": [
        " person = {'name': 'Ankit sinha', 'age': 25, 'city': 'Gurgaon'}\n",
        " print(\"Dictionary:\", person)"
      ],
      "metadata": {
        "colab": {
          "base_uri": "https://localhost:8080/"
        },
        "id": "EUq3fM_YVjKQ",
        "outputId": "a9bcb7b0-1508-48fb-a95f-61c881113853"
      },
      "execution_count": 6,
      "outputs": [
        {
          "output_type": "stream",
          "name": "stdout",
          "text": [
            "Dictionary: {'name': 'Ankit sinha', 'age': 25, 'city': 'Gurgaon'}\n"
          ]
        }
      ]
    },
    {
      "cell_type": "markdown",
      "source": [
        "   22. Write a code to add a new key-value pair \"country\": \"USA\" to the dictionary {'name': 'John', 'age': 25}."
      ],
      "metadata": {
        "id": "zDlDBwucXcUg"
      }
    },
    {
      "cell_type": "code",
      "source": [
        "person = {'name': 'John', 'age': 25}\n",
        "person['country'] = 'USA'\n",
        "print(\"Updated dictionary:\", person)"
      ],
      "metadata": {
        "colab": {
          "base_uri": "https://localhost:8080/"
        },
        "id": "2hUZPWfUXjq3",
        "outputId": "2838db2d-5c08-455b-a33a-9c69a6a90919"
      },
      "execution_count": 7,
      "outputs": [
        {
          "output_type": "stream",
          "name": "stdout",
          "text": [
            "Updated dictionary: {'name': 'John', 'age': 25, 'country': 'USA'}\n"
          ]
        }
      ]
    },
    {
      "cell_type": "markdown",
      "source": [
        "   23. Write a code to access the value associated with the key \"name\" in the dictionary {'name': 'Alice', 'age': 30}."
      ],
      "metadata": {
        "id": "l8c1Qo9DX4DY"
      }
    },
    {
      "cell_type": "code",
      "source": [
        "person = {'name': 'Alice', 'age': 30}\n",
        "name_value = person['name']\n",
        "print(\"Value associated with 'name':\", name_value)"
      ],
      "metadata": {
        "colab": {
          "base_uri": "https://localhost:8080/"
        },
        "id": "l7Q3O9NVX-f3",
        "outputId": "d57dd064-4e50-47c6-d8e5-af5b5b0f25a7"
      },
      "execution_count": 8,
      "outputs": [
        {
          "output_type": "stream",
          "name": "stdout",
          "text": [
            "Value associated with 'name': Alice\n"
          ]
        }
      ]
    },
    {
      "cell_type": "markdown",
      "source": [
        "   24. Write a code to remove the key \"age\" from the dictionary {'name': 'Bob', 'age': 22, 'city': 'New York'}."
      ],
      "metadata": {
        "id": "HFU7ILhuYTbb"
      }
    },
    {
      "cell_type": "code",
      "source": [
        "person = {'name': 'Bob', 'age': 22, 'city': 'New York'}\n",
        "del person['age']\n",
        "print(\"Updated dictionary:\", person)"
      ],
      "metadata": {
        "colab": {
          "base_uri": "https://localhost:8080/"
        },
        "id": "GVEd7vfWYZC_",
        "outputId": "92d070de-80d0-4076-8535-9484d7b16b97"
      },
      "execution_count": 9,
      "outputs": [
        {
          "output_type": "stream",
          "name": "stdout",
          "text": [
            "Updated dictionary: {'name': 'Bob', 'city': 'New York'}\n"
          ]
        }
      ]
    },
    {
      "cell_type": "markdown",
      "source": [
        "   25. Write a code to check if the key \"city\" exists in the dictionary {'name': 'Alice', 'city': 'Paris'}."
      ],
      "metadata": {
        "id": "C-noUf2RYk67"
      }
    },
    {
      "cell_type": "code",
      "source": [
        "person = {'name': 'Alice', 'city': 'Paris'}\n",
        "city_exists = 'city' in person\n",
        "print(\"Does 'city' exist in the dictionary:\", city_exists)"
      ],
      "metadata": {
        "colab": {
          "base_uri": "https://localhost:8080/"
        },
        "id": "qKP8LC0-YtJE",
        "outputId": "688c125e-7fea-43bf-903c-b91c60363b40"
      },
      "execution_count": 10,
      "outputs": [
        {
          "output_type": "stream",
          "name": "stdout",
          "text": [
            "Does 'city' exist in the dictionary: True\n"
          ]
        }
      ]
    },
    {
      "cell_type": "markdown",
      "source": [
        "   26. Write a code to create a list, a tuple, and a dictionary, and print them all."
      ],
      "metadata": {
        "id": "pLYdQ5VbZAts"
      }
    },
    {
      "cell_type": "code",
      "source": [
        "my_list = [1.2,3,4,5]\n",
        "my_tuple = ('apple','banana','orange')\n",
        "my_dictionary = {'name': 'Ankit', 'age': 25}\n",
        "print(\"List:\", my_list)\n",
        "print(\"Tuple:\", my_tuple)\n",
        "print(\"Dictionary:\", my_dictionary)"
      ],
      "metadata": {
        "colab": {
          "base_uri": "https://localhost:8080/"
        },
        "id": "YGenGNRZZHXd",
        "outputId": "91652f83-a730-40b6-d8d2-61e8356b03f1"
      },
      "execution_count": 11,
      "outputs": [
        {
          "output_type": "stream",
          "name": "stdout",
          "text": [
            "List: [1.2, 3, 4, 5]\n",
            "Tuple: ('apple', 'banana', 'orange')\n",
            "Dictionary: {'name': 'Ankit', 'age': 25}\n"
          ]
        }
      ]
    },
    {
      "cell_type": "markdown",
      "source": [
        "   27. Write a code to create a list of 5 random numbers between 1 and 100, sort it in ascending order, and print the result.(replaced)\n"
      ],
      "metadata": {
        "id": "XulDOV4_Zsfm"
      }
    },
    {
      "cell_type": "code",
      "source": [
        "import random\n",
        "random_list = [random.randint(1,100) for _ in range(5)]\n",
        "print(\"Orignal list:\", random_list)\n",
        "print(\"sorted list:\", random_list)\n",
        "#\n",
        "\n",
        "#\n",
        "\n"
      ],
      "metadata": {
        "colab": {
          "base_uri": "https://localhost:8080/"
        },
        "id": "dtsbHCmyZ5RZ",
        "outputId": "e8e906bb-c5ee-47ab-db85-369f4f6e0a1b"
      },
      "execution_count": 13,
      "outputs": [
        {
          "output_type": "stream",
          "name": "stdout",
          "text": [
            "Orignal list: [27, 27, 75, 97, 72]\n",
            "sorted list: [27, 27, 75, 97, 72]\n"
          ]
        }
      ]
    },
    {
      "cell_type": "markdown",
      "source": [
        "   28. Write a code to create a list with strings and print the element at the third index."
      ],
      "metadata": {
        "id": "zTgBHgedbEf7"
      }
    },
    {
      "cell_type": "code",
      "source": [
        "fruit_list = ['apple','banana','orange','kiwi','mango']\n",
        "print(\"Element at index 3:\", fruit_list[3])"
      ],
      "metadata": {
        "colab": {
          "base_uri": "https://localhost:8080/"
        },
        "id": "DCNizxXDbOaH",
        "outputId": "a0eaa868-8e5f-4fee-bffe-434f6683e73f"
      },
      "execution_count": 14,
      "outputs": [
        {
          "output_type": "stream",
          "name": "stdout",
          "text": [
            "Element at index 3: kiwi\n"
          ]
        }
      ]
    },
    {
      "cell_type": "markdown",
      "source": [
        "   29. Write a code to combine two dictionaries into one and print the result."
      ],
      "metadata": {
        "id": "AfNMX-ZUbiaZ"
      }
    },
    {
      "cell_type": "code",
      "source": [
        "dict1 = {'name': 'New york', 'country': 'USA'}\n",
        "dict2 = {'city': 'Paris', 'language': 'French'}\n",
        "combined_dict = {**dict1, **dict2}\n",
        "print(\"Combined dictionary:\", combined_dict)\n",
        "#"
      ],
      "metadata": {
        "colab": {
          "base_uri": "https://localhost:8080/"
        },
        "id": "dJYM3EJEcBwf",
        "outputId": "1ab1a67c-55b0-4d26-9f48-923041f71205"
      },
      "execution_count": 15,
      "outputs": [
        {
          "output_type": "stream",
          "name": "stdout",
          "text": [
            "Combined dictionary: {'name': 'New york', 'country': 'USA', 'city': 'Paris', 'language': 'French'}\n"
          ]
        }
      ]
    },
    {
      "cell_type": "markdown",
      "source": [
        "   30. Write a code to convert a list of strings into a set."
      ],
      "metadata": {
        "id": "fu5AI-0Ecr42"
      }
    },
    {
      "cell_type": "code",
      "source": [
        "string_list = ['apple','banana','orange']\n",
        "string_set = set(string_list)\n",
        "print(\"Set:\", string_set)"
      ],
      "metadata": {
        "colab": {
          "base_uri": "https://localhost:8080/"
        },
        "id": "XcwrdFxscxUh",
        "outputId": "1392d537-a3fa-4b86-856b-ec1e0da703cb"
      },
      "execution_count": 16,
      "outputs": [
        {
          "output_type": "stream",
          "name": "stdout",
          "text": [
            "Set: {'orange', 'banana', 'apple'}\n"
          ]
        }
      ]
    }
  ]
}